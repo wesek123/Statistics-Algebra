{
 "cells": [
  {
   "cell_type": "code",
   "execution_count": 1,
   "metadata": {},
   "outputs": [],
   "source": [
    "import pandas as pd\n",
    "import mysql.connector\n",
    "from mysql.connector import Error\n",
    "from csv import reader\n",
    "import numpy as np\n",
    "import statistics as st\n",
    "import matplotlib.pyplot as plt\n",
    "import seaborn as sea"
   ]
  },
  {
   "cell_type": "code",
   "execution_count": 2,
   "metadata": {},
   "outputs": [
    {
     "name": "stdout",
     "output_type": "stream",
     "text": [
      "Wczytany plik csv\n"
     ]
    },
    {
     "data": {
      "text/html": [
       "<div>\n",
       "<style scoped>\n",
       "    .dataframe tbody tr th:only-of-type {\n",
       "        vertical-align: middle;\n",
       "    }\n",
       "\n",
       "    .dataframe tbody tr th {\n",
       "        vertical-align: top;\n",
       "    }\n",
       "\n",
       "    .dataframe thead th {\n",
       "        text-align: right;\n",
       "    }\n",
       "</style>\n",
       "<table border=\"1\" class=\"dataframe\">\n",
       "  <thead>\n",
       "    <tr style=\"text-align: right;\">\n",
       "      <th></th>\n",
       "      <th>Unnamed: 0</th>\n",
       "      <th>Unnamed: 1</th>\n",
       "      <th>Unnamed: 2</th>\n",
       "      <th>Unnamed: 3</th>\n",
       "      <th>Unnamed: 4</th>\n",
       "      <th>Unnamed: 5</th>\n",
       "    </tr>\n",
       "  </thead>\n",
       "  <tbody>\n",
       "    <tr>\n",
       "      <th>0</th>\n",
       "      <td>NaN</td>\n",
       "      <td>NaN</td>\n",
       "      <td>NaN</td>\n",
       "      <td>NaN</td>\n",
       "      <td>NaN</td>\n",
       "      <td>NaN</td>\n",
       "    </tr>\n",
       "    <tr>\n",
       "      <th>1</th>\n",
       "      <td>1.0</td>\n",
       "      <td>Madalyn</td>\n",
       "      <td>Japeth</td>\n",
       "      <td>10.0</td>\n",
       "      <td>214.0</td>\n",
       "      <td>110.0</td>\n",
       "    </tr>\n",
       "    <tr>\n",
       "      <th>2</th>\n",
       "      <td>2.0</td>\n",
       "      <td>Ermengarde</td>\n",
       "      <td>Fontana</td>\n",
       "      <td>138.0</td>\n",
       "      <td>82.0</td>\n",
       "      <td>96.0</td>\n",
       "    </tr>\n",
       "    <tr>\n",
       "      <th>3</th>\n",
       "      <td>3.0</td>\n",
       "      <td>Roseline</td>\n",
       "      <td>Chrystel</td>\n",
       "      <td>114.0</td>\n",
       "      <td>64.0</td>\n",
       "      <td>28.0</td>\n",
       "    </tr>\n",
       "    <tr>\n",
       "      <th>4</th>\n",
       "      <td>4.0</td>\n",
       "      <td>Cissiee</td>\n",
       "      <td>Love</td>\n",
       "      <td>65.0</td>\n",
       "      <td>285.0</td>\n",
       "      <td>118.0</td>\n",
       "    </tr>\n",
       "  </tbody>\n",
       "</table>\n",
       "</div>"
      ],
      "text/plain": [
       "   Unnamed: 0  Unnamed: 1 Unnamed: 2  Unnamed: 3  Unnamed: 4  Unnamed: 5\n",
       "0         NaN         NaN        NaN         NaN         NaN         NaN\n",
       "1         1.0     Madalyn     Japeth        10.0       214.0       110.0\n",
       "2         2.0  Ermengarde    Fontana       138.0        82.0        96.0\n",
       "3         3.0    Roseline   Chrystel       114.0        64.0        28.0\n",
       "4         4.0     Cissiee       Love        65.0       285.0       118.0"
      ]
     },
     "execution_count": 2,
     "metadata": {},
     "output_type": "execute_result"
    }
   ],
   "source": [
    "df = pd.read_csv(\"klub_szachowy.csv\")\n",
    "print(\"Wczytany plik csv\")\n",
    "df.head()"
   ]
  },
  {
   "cell_type": "code",
   "execution_count": 3,
   "metadata": {},
   "outputs": [
    {
     "name": "stdout",
     "output_type": "stream",
     "text": [
      "Połączono z bazą danych\n"
     ]
    }
   ],
   "source": [
    "try:\n",
    "    global polaczenie\n",
    "    polaczenie = mysql.connector.connect(host=\"localhost\", user=\"root\",\n",
    "                                        password=\"\", db=\"klubszachowy\")\n",
    "    if polaczenie.is_connected():\n",
    "        print(\"Połączono z bazą danych\")\n",
    "except Error as e:\n",
    "    print(e)"
   ]
  },
  {
   "cell_type": "code",
   "execution_count": 4,
   "metadata": {},
   "outputs": [
    {
     "name": "stdout",
     "output_type": "stream",
     "text": [
      "Dodano dane\n"
     ]
    }
   ],
   "source": [
    "cursor = polaczenie.cursor()\n",
    "with open('klub_szachowy.csv', 'r') as objcsv:\n",
    "    csvr = reader(objcsv)\n",
    "    x = next(csvr)\n",
    "    if x != None:\n",
    "        for row in csvr:\n",
    "            for i in csvr:\n",
    "                dodaj = \"insert into klubowicze(\" \\\n",
    "                        \"id, imie, nazwisko, zagrane, obejrzane, przeanalizowane) \" \\\n",
    "                        \"values (%s, %s, %s, %s, %s, %s)\"\n",
    "                v = (i[0], i[1], i[2], i[3], i[4], i[5])\n",
    "                cursor.execute(dodaj, v)\n",
    "                polaczenie.commit()\n",
    "\n",
    "print(\"Dodano dane\")"
   ]
  },
  {
   "cell_type": "code",
   "execution_count": 5,
   "metadata": {},
   "outputs": [
    {
     "name": "stdout",
     "output_type": "stream",
     "text": [
      "Stworzono nowy plik csv\n"
     ]
    }
   ],
   "source": [
    "pol1 = 'select * from klubowicze'\n",
    "wyn = pd.read_sql_query(pol1, polaczenie)\n",
    "wyn = pd.DataFrame(wyn)\n",
    "wyn.to_csv(\"nowistarzyklubowicze.csv\", index=False)\n",
    "print(\"Stworzono nowy plik csv\")"
   ]
  },
  {
   "cell_type": "code",
   "execution_count": 6,
   "metadata": {},
   "outputs": [
    {
     "name": "stdout",
     "output_type": "stream",
     "text": [
      "Stworzony plik csv:\n"
     ]
    },
    {
     "data": {
      "text/html": [
       "<div>\n",
       "<style scoped>\n",
       "    .dataframe tbody tr th:only-of-type {\n",
       "        vertical-align: middle;\n",
       "    }\n",
       "\n",
       "    .dataframe tbody tr th {\n",
       "        vertical-align: top;\n",
       "    }\n",
       "\n",
       "    .dataframe thead th {\n",
       "        text-align: right;\n",
       "    }\n",
       "</style>\n",
       "<table border=\"1\" class=\"dataframe\">\n",
       "  <thead>\n",
       "    <tr style=\"text-align: right;\">\n",
       "      <th></th>\n",
       "      <th>id</th>\n",
       "      <th>imie</th>\n",
       "      <th>nazwisko</th>\n",
       "      <th>zagrane</th>\n",
       "      <th>obejrzane</th>\n",
       "      <th>przeanalizowane</th>\n",
       "    </tr>\n",
       "  </thead>\n",
       "  <tbody>\n",
       "    <tr>\n",
       "      <th>0</th>\n",
       "      <td>1</td>\n",
       "      <td>Madalyn</td>\n",
       "      <td>Japeth</td>\n",
       "      <td>10</td>\n",
       "      <td>214</td>\n",
       "      <td>110</td>\n",
       "    </tr>\n",
       "    <tr>\n",
       "      <th>1</th>\n",
       "      <td>2</td>\n",
       "      <td>Ermengarde</td>\n",
       "      <td>Fontana</td>\n",
       "      <td>138</td>\n",
       "      <td>82</td>\n",
       "      <td>96</td>\n",
       "    </tr>\n",
       "    <tr>\n",
       "      <th>2</th>\n",
       "      <td>3</td>\n",
       "      <td>Roseline</td>\n",
       "      <td>Chrystel</td>\n",
       "      <td>114</td>\n",
       "      <td>64</td>\n",
       "      <td>28</td>\n",
       "    </tr>\n",
       "    <tr>\n",
       "      <th>3</th>\n",
       "      <td>4</td>\n",
       "      <td>Cissiee</td>\n",
       "      <td>Love</td>\n",
       "      <td>65</td>\n",
       "      <td>285</td>\n",
       "      <td>118</td>\n",
       "    </tr>\n",
       "    <tr>\n",
       "      <th>4</th>\n",
       "      <td>5</td>\n",
       "      <td>Leeanne</td>\n",
       "      <td>Rooney</td>\n",
       "      <td>137</td>\n",
       "      <td>79</td>\n",
       "      <td>160</td>\n",
       "    </tr>\n",
       "  </tbody>\n",
       "</table>\n",
       "</div>"
      ],
      "text/plain": [
       "   id        imie  nazwisko  zagrane  obejrzane  przeanalizowane\n",
       "0   1     Madalyn    Japeth       10        214              110\n",
       "1   2  Ermengarde   Fontana      138         82               96\n",
       "2   3    Roseline  Chrystel      114         64               28\n",
       "3   4     Cissiee      Love       65        285              118\n",
       "4   5     Leeanne    Rooney      137         79              160"
      ]
     },
     "execution_count": 6,
     "metadata": {},
     "output_type": "execute_result"
    }
   ],
   "source": [
    "df = pd.read_csv(\"nowistarzyklubowicze.csv\")\n",
    "print(\"Stworzony plik csv:\")\n",
    "df.head()"
   ]
  },
  {
   "cell_type": "code",
   "execution_count": 7,
   "metadata": {},
   "outputs": [
    {
     "name": "stdout",
     "output_type": "stream",
     "text": [
      "Maksymalna i minimalna liczba rozegranych gier przez pojedynczego gracza:\n",
      "Max  200\n",
      "Min  1\n"
     ]
    }
   ],
   "source": [
    "print(\"Maksymalna i minimalna liczba rozegranych gier przez pojedynczego gracza:\")\n",
    "print('Max ', np.max(df['zagrane']))\n",
    "print('Min ', np.min(df['zagrane']))"
   ]
  },
  {
   "cell_type": "code",
   "execution_count": 8,
   "metadata": {},
   "outputs": [
    {
     "name": "stdout",
     "output_type": "stream",
     "text": [
      "Średnia wartość i mediana rozegranych gier przez wszystkich graczy:\n",
      "Mediana:  98.0\n",
      "Średnia wartość:  98.244\n"
     ]
    }
   ],
   "source": [
    "print(\"Średnia wartość i mediana rozegranych gier przez wszystkich graczy:\")\n",
    "print('Mediana: ', np.median(df['zagrane']))\n",
    "print('Średnia wartość: ', np.mean(df['zagrane']))"
   ]
  },
  {
   "cell_type": "code",
   "execution_count": 9,
   "metadata": {},
   "outputs": [
    {
     "name": "stdout",
     "output_type": "stream",
     "text": [
      "Informacje statystyczne dotyczące przeanalizowanych gier:\n",
      "Wariancja:  3246.961523046092\n",
      "Odchylenie standardowe:  56.982115817562374\n",
      "Dolna mediana:  103\n",
      "Górna mediana:  104\n"
     ]
    }
   ],
   "source": [
    "print(\"Informacje statystyczne dotyczące przeanalizowanych gier:\")\n",
    "print('Wariancja: ', st.variance(df['przeanalizowane']))\n",
    "print('Odchylenie standardowe: ', st.stdev(df['przeanalizowane']))\n",
    "print('Dolna mediana: ', st.median_low(df['przeanalizowane']))\n",
    "print('Górna mediana: ', st.median_high(df['przeanalizowane']))"
   ]
  },
  {
   "cell_type": "code",
   "execution_count": 16,
   "metadata": {},
   "outputs": [
    {
     "data": {
      "text/plain": [
       "Text(0.5, 0, 'Przeanalizowane')"
      ]
     },
     "execution_count": 16,
     "metadata": {},
     "output_type": "execute_result"
    },
    {
     "data": {
      "image/png": "[encoded data removed]",
      "text/plain": [
       "<Figure size 720x504 with 1 Axes>"
      ]
     },
     "metadata": {
      "needs_background": "light"
     },
     "output_type": "display_data"
    }
   ],
   "source": [
    "df.plot(kind='scatter', x='zagrane', y='przeanalizowane', color='red', alpha=0.5, figsize=(10 ,7))\n",
    "plt.title('Relacja między grami rozegranymi a przeanalizowanymi ', size=20, color='red')\n",
    "plt.ylabel('Zagrane', size=20);\n",
    "plt.xlabel('Przeanalizowane', size=20)"
   ]
  },
  {
   "cell_type": "code",
   "execution_count": 11,
   "metadata": {},
   "outputs": [
    {
     "data": {
      "text/plain": [
       "<AxesSubplot:>"
      ]
     },
     "execution_count": 11,
     "metadata": {},
     "output_type": "execute_result"
    },
    {
     "data": {
      "image/png": "[encoded data removed]",
      "text/plain": [
       "<Figure size 432x288 with 1 Axes>"
      ]
     },
     "metadata": {
      "needs_background": "light"
     },
     "output_type": "display_data"
    }
   ],
   "source": [
    "df['obejrzane'].hist()"
   ]
  },
  {
   "cell_type": "code",
   "execution_count": 12,
   "metadata": {},
   "outputs": [],
   "source": [
    "polaczenie.close()"
   ]
  },
  {
   "cell_type": "code",
   "execution_count": null,
   "metadata": {},
   "outputs": [],
   "source": []
  }
 ],
 "metadata": {
  "kernelspec": {
   "display_name": "Python 3",
   "language": "python",
   "name": "python3"
  },
  "language_info": {
   "codemirror_mode": {
    "name": "ipython",
    "version": 3
   },
   "file_extension": ".py",
   "mimetype": "text/x-python",
   "name": "python",
   "nbconvert_exporter": "python",
   "pygments_lexer": "ipython3",
   "version": "3.8.5"
  }
 },
 "nbformat": 4,
 "nbformat_minor": 4
}
